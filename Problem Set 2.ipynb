{
 "cells": [
  {
   "cell_type": "markdown",
   "id": "230980b1",
   "metadata": {},
   "source": [
    "# QUESTION 1"
   ]
  },
  {
   "cell_type": "code",
   "execution_count": null,
   "id": "af3918ce",
   "metadata": {},
   "outputs": [],
   "source": [
    "a = 0 \n",
    "def b():\n",
    "    global a\n",
    "    a = c(a)\n",
    "def c(a):\n",
    "    return a + 2"
   ]
  },
  {
   "cell_type": "code",
   "execution_count": 3,
   "id": "38d8c6c6",
   "metadata": {},
   "outputs": [
    {
     "data": {
      "text/plain": [
       "6"
      ]
     },
     "execution_count": 3,
     "metadata": {},
     "output_type": "execute_result"
    }
   ],
   "source": [
    "b() #First Iteration 0 + 2 = 2\n",
    "b() #Second Iteration 2 + 2 = 4\n",
    "b() #Third Iteration 4 + 2 = 6\n",
    "a #a = 6"
   ]
  },
  {
   "cell_type": "markdown",
   "id": "962aa5d8",
   "metadata": {},
   "source": [
    "# QUESTION 2"
   ]
  },
  {
   "cell_type": "code",
   "execution_count": 9,
   "id": "8515950d",
   "metadata": {},
   "outputs": [],
   "source": [
    "def fileLength(filename):\n",
    "    try:\n",
    "        with open(filename, 'r') as file:\n",
    "            contents = file.read()\n",
    "            length = len(contents)\n",
    "            return length\n",
    "    except FileNotFoundError:\n",
    "        return f\"File '{filename}' not found.\""
   ]
  },
  {
   "cell_type": "code",
   "execution_count": 10,
   "id": "bcefe2aa",
   "metadata": {},
   "outputs": [
    {
     "data": {
      "text/plain": [
       "123"
      ]
     },
     "execution_count": 10,
     "metadata": {},
     "output_type": "execute_result"
    }
   ],
   "source": [
    "fileLength('filelength.txt')"
   ]
  },
  {
   "cell_type": "code",
   "execution_count": 11,
   "id": "c33658c7",
   "metadata": {},
   "outputs": [
    {
     "data": {
      "text/plain": [
       "\"File 'ilelength.txt' not found.\""
      ]
     },
     "execution_count": 11,
     "metadata": {},
     "output_type": "execute_result"
    }
   ],
   "source": [
    "fileLength('ilelength.txt')"
   ]
  },
  {
   "cell_type": "markdown",
   "id": "b17a23e3",
   "metadata": {},
   "source": [
    "# QUESTION 3"
   ]
  },
  {
   "cell_type": "code",
   "execution_count": 13,
   "id": "7f92bd3c",
   "metadata": {},
   "outputs": [],
   "source": [
    "class Marsupial:\n",
    "    def __init__(self):\n",
    "        self.pouch = []\n",
    "\n",
    "    def put_in_pouch(self, item):\n",
    "        self.pouch.append(item)\n",
    "\n",
    "    def pouch_contents(self):\n",
    "        return self.pouch\n",
    "\n",
    "\n",
    "class Kangaroo(Marsupial):\n",
    "    def __init__(self, x, y):\n",
    "        super().__init__()\n",
    "        self.x = x\n",
    "        self.y = y\n",
    "\n",
    "    def jump(self, dx, dy):\n",
    "        self.x += dx\n",
    "        self.y += dy\n",
    "\n",
    "    def __str__(self):\n",
    "        return f\"I am a Kangaroo located at coordinates ({self.x},{self.y})\""
   ]
  },
  {
   "cell_type": "code",
   "execution_count": 14,
   "id": "4cb09c81",
   "metadata": {},
   "outputs": [
    {
     "name": "stdout",
     "output_type": "stream",
     "text": [
      "['doll', 'firetruck', 'kitten']\n",
      "I am a Kangaroo located at coordinates (0,0)\n",
      "['doll', 'firetruck', 'kitten']\n",
      "I am a Kangaroo located at coordinates (3,0)\n"
     ]
    }
   ],
   "source": [
    "m = Marsupial()\n",
    "m.put_in_pouch('doll')\n",
    "m.put_in_pouch('firetruck')\n",
    "m.put_in_pouch('kitten')\n",
    "print(m.pouch_contents()) \n",
    "\n",
    "k = Kangaroo(0, 0)\n",
    "print(k)  \n",
    "k.put_in_pouch('doll')\n",
    "k.put_in_pouch('firetruck')\n",
    "k.put_in_pouch('kitten')\n",
    "print(k.pouch_contents())  \n",
    "k.jump(1, 0)\n",
    "k.jump(1, 0)\n",
    "k.jump(1, 0)\n",
    "print(k)  "
   ]
  },
  {
   "cell_type": "markdown",
   "id": "b503d2bd",
   "metadata": {},
   "source": [
    "# QUESTION 4"
   ]
  },
  {
   "cell_type": "code",
   "execution_count": 15,
   "id": "fb7569cd",
   "metadata": {},
   "outputs": [],
   "source": [
    "def collatz(x):\n",
    "    if x == 1:\n",
    "        print(1)\n",
    "        return\n",
    "\n",
    "    print(x)\n",
    "\n",
    "    if x % 2 == 0:\n",
    "        collatz(x // 2)  # If x is even, divide it by 2.\n",
    "    else:\n",
    "        collatz(3 * x + 1) # If x is odd, apply the Collatz rule."
   ]
  },
  {
   "cell_type": "code",
   "execution_count": 17,
   "id": "ac598b0c",
   "metadata": {},
   "outputs": [
    {
     "name": "stdout",
     "output_type": "stream",
     "text": [
      "Enter a positive integer: 10\n",
      "10\n",
      "5\n",
      "16\n",
      "8\n",
      "4\n",
      "2\n",
      "1\n"
     ]
    }
   ],
   "source": [
    "input_number = int(input(\"Enter a positive integer: \"))\n",
    "if input_number > 0:\n",
    "    collatz(input_number)\n",
    "else:\n",
    "    print(\"Please enter a positive integer.\")"
   ]
  },
  {
   "cell_type": "markdown",
   "id": "51b1f68b",
   "metadata": {},
   "source": [
    "# QUESTION 5"
   ]
  },
  {
   "cell_type": "code",
   "execution_count": 18,
   "id": "bd882ded",
   "metadata": {},
   "outputs": [],
   "source": [
    "def binary(n):\n",
    "    if n > 1:\n",
    "        binary(n // 2) \n",
    "    print(n % 2, end='')"
   ]
  },
  {
   "cell_type": "code",
   "execution_count": 19,
   "id": "1f08d2f0",
   "metadata": {},
   "outputs": [
    {
     "name": "stdout",
     "output_type": "stream",
     "text": [
      "Enter a non-negative integer: 10\n",
      "1010"
     ]
    }
   ],
   "source": [
    "decimal_number = int(input(\"Enter a non-negative integer: \"))\n",
    "binary(decimal_number)"
   ]
  },
  {
   "cell_type": "markdown",
   "id": "614dc789",
   "metadata": {},
   "source": [
    "# QUESTION 6"
   ]
  },
  {
   "cell_type": "code",
   "execution_count": 21,
   "id": "981f8bd9",
   "metadata": {},
   "outputs": [
    {
     "name": "stdout",
     "output_type": "stream",
     "text": [
      "W3C Mission\n",
      " Principles\n"
     ]
    }
   ],
   "source": [
    "from html.parser import HTMLParser\n",
    "\n",
    "class HeadingParser(HTMLParser):\n",
    "    def __init__(self):\n",
    "        super().__init__()\n",
    "        self.in_heading = False\n",
    "        self.heading_level = 0\n",
    "\n",
    "    def handle_starttag(self, tag, attrs):\n",
    "        if tag.startswith('h') and len(tag) == 2 and tag[1].isdigit():\n",
    "            self.in_heading = True\n",
    "            self.heading_level = int(tag[1])\n",
    "\n",
    "    def handle_data(self, data):\n",
    "        if self.in_heading:\n",
    "            indentation = self.heading_level - 1\n",
    "            print(\" \" * indentation + data)\n",
    "\n",
    "    def handle_endtag(self, tag):\n",
    "        if self.in_heading:\n",
    "            self.in_heading = False\n",
    "\n",
    "with open(\"w3c.txt\", \"r\", encoding=\"utf-8\") as file:\n",
    "    html_content = file.read()\n",
    "\n",
    "# Create the parser and parse the HTML content\n",
    "parser = HeadingParser()\n",
    "parser.feed(html_content)\n"
   ]
  },
  {
   "cell_type": "markdown",
   "id": "0dd4c233",
   "metadata": {},
   "source": [
    "# QUESTION 7"
   ]
  },
  {
   "cell_type": "code",
   "execution_count": 27,
   "id": "6bd5f32a",
   "metadata": {},
   "outputs": [
    {
     "name": "stdout",
     "output_type": "stream",
     "text": [
      "http://web.simmons.edu/~grovesd/comm244/notes/week3/html-test-page.html\n",
      "  http://web.simmons.edu/~grovesd/comm244\n",
      "    http://web.simmons.edu/~grovesd/comm244/\n",
      "    http://web.simmons.edu/~grovesd/comm244/week1\n",
      "    http://web.simmons.edu/~grovesd/comm244/week2\n",
      "    http://web.simmons.edu/~grovesd/comm244/week3\n",
      "    http://web.simmons.edu/~grovesd/comm244/week4\n",
      "    http://web.simmons.edu/~grovesd/comm244/week5\n",
      "    http://web.simmons.edu/~grovesd/comm244/week6\n",
      "    http://web.simmons.edu/~grovesd/comm244/week7\n",
      "    http://web.simmons.edu/~grovesd/comm244/week8\n",
      "    http://web.simmons.edu/~grovesd/comm244/week9\n",
      "    http://web.simmons.edu/~grovesd/comm244/week10\n",
      "    http://web.simmons.edu/~grovesd/comm244/week11\n",
      "    http://web.simmons.edu/~grovesd/comm244/week12\n",
      "    http://web.simmons.edu/~grovesd/comm244/week13\n",
      "    http://web.simmons.edu/~grovesd/comm244/recipebook\n",
      "    http://web.simmons.edu/~grovesd/comm244/story\n",
      "    http://web.simmons.edu/~grovesd/comm244/final\n",
      "  http://web.simmons.edu/~grovesd/comm244/week3\n",
      "    http://web.simmons.edu/~grovesd/comm244/\n",
      "    http://validator.w3.org/\n",
      "    http://validator.nu/\n",
      "    Error: 401 Client Error: Unauthorized for url: https://drive.google.com/file/d/0B6I5Ldm8Lgz-Y2RCNzRVVW1xSlE/view?usp=sharing\n",
      "    https://developer.mozilla.org/en-US/docs/Learn/CSS/Introduction_to_CSS/How_CSS_works\n",
      "    https://developer.mozilla.org/en-US/docs/Learn/CSS/Introduction_to_CSS/Syntax\n",
      "    https://developer.mozilla.org/en-US/docs/Learn/CSS/Introduction_to_CSS/Selectors\n",
      "    https://developer.mozilla.org/en-US/docs/Learn/CSS/Introduction_to_CSS/Simple_selectors\n",
      "    http://www.w3schools.com/css/css_howto.asp\n",
      "    http://www.w3schools.com/css/css_text.asp\n",
      "    http://www.w3schools.com/css/css_list.asp\n",
      "    http://www.w3schools.com/css/css_border.asp\n",
      "    http://www.w3schools.com/css/css_font.asp\n",
      "    Error: 401 Client Error: Unauthorized for url: https://drive.google.com/file/d/0B6I5Ldm8Lgz-Y2RCNzRVVW1xSlE/view?usp=sharing\n",
      "    http://web.simmons.edu/~grovesd/comm244/week1\n",
      "    http://web.simmons.edu/~grovesd/comm244/week2\n",
      "    http://web.simmons.edu/~grovesd/comm244/week3\n",
      "    http://web.simmons.edu/~grovesd/comm244/week4\n",
      "    http://web.simmons.edu/~grovesd/comm244/week5\n",
      "    http://web.simmons.edu/~grovesd/comm244/week6\n",
      "    http://web.simmons.edu/~grovesd/comm244/week7\n",
      "    http://web.simmons.edu/~grovesd/comm244/week8\n",
      "    http://web.simmons.edu/~grovesd/comm244/week9\n",
      "    http://web.simmons.edu/~grovesd/comm244/week10\n",
      "    http://web.simmons.edu/~grovesd/comm244/week11\n",
      "    http://web.simmons.edu/~grovesd/comm244/week12\n",
      "    http://web.simmons.edu/~grovesd/comm244/week13\n",
      "    http://web.simmons.edu/~grovesd/comm244/recipebook\n",
      "    http://web.simmons.edu/~grovesd/comm244/story\n",
      "    http://web.simmons.edu/~grovesd/comm244/final\n"
     ]
    }
   ],
   "source": [
    "import requests\n",
    "from bs4 import BeautifulSoup\n",
    "\n",
    "def webdir(url, depth, indent=0):\n",
    "    if depth < 0:\n",
    "        return\n",
    "\n",
    "    try:\n",
    "        response = requests.get(url)\n",
    "        response.raise_for_status()\n",
    "        soup = BeautifulSoup(response.text, \"html.parser\")\n",
    "        print(\" \" * indent + url)\n",
    "\n",
    "        if depth > 0:\n",
    "            links = soup.find_all(\"a\")\n",
    "            for link in links:\n",
    "                href = link.get(\"href\")\n",
    "                if href and href.startswith(\"http\"):\n",
    "                    webdir(href, depth - 1, indent + 2)\n",
    "\n",
    "    except Exception as e:\n",
    "        print(\" \" * indent + f\"Error: {e}\")\n",
    "\n",
    "# Example usage:\n",
    "webdir(\"http://web.simmons.edu/~grovesd/comm244/notes/week3/html-test-page.html\", depth=2)"
   ]
  },
  {
   "cell_type": "markdown",
   "id": "58461cca",
   "metadata": {},
   "source": [
    "# QUESTION 8"
   ]
  },
  {
   "cell_type": "code",
   "execution_count": null,
   "id": "cb420be5",
   "metadata": {},
   "outputs": [],
   "source": [
    "#Database table name is table\n",
    "a) Select Temperature (C) from table\n",
    "b) select distinct(City) from table \n",
    "c) Select * from table where country = ‘India’ \n",
    "d) Select * from table where Season = ‘Fall’\n",
    "e) Select City, Country, Season from table\n",
    "Where Avg(Rainfall) is between 200 and 400 \n",
    "f) Select City, Country from table where Season = ‘Fall’ and Temperature >= 20 \n",
    "Order by asc \n",
    "g) select sum(Rainfall) from table where city = Cairo \n",
    "h) Select sum(rainfall) from table group by Season "
   ]
  },
  {
   "cell_type": "markdown",
   "id": "bfb8e0f9",
   "metadata": {},
   "source": [
    "# QUESTION 9"
   ]
  },
  {
   "cell_type": "code",
   "execution_count": 24,
   "id": "870cb156",
   "metadata": {},
   "outputs": [],
   "source": [
    "words = ['The', 'quick', 'brown', 'fox', 'jumps', 'over', 'the', 'lazy', 'dog']\n",
    "#a)\n",
    "uppercase_words = [word.upper() for word in words]\n",
    "#b)\n",
    "lowercase_words = [word.lower() for word in words]\n",
    "#c)\n",
    "word_lengths = [len(word) for word in words]\n",
    "#d)\n",
    "word_info = [[word.upper(), word.lower(), len(word)] for word in words]\n",
    "#e)\n",
    "long_words = [word for word in words if len(word) >= 4]\n"
   ]
  },
  {
   "cell_type": "code",
   "execution_count": 26,
   "id": "9ab94377",
   "metadata": {},
   "outputs": [
    {
     "name": "stdout",
     "output_type": "stream",
     "text": [
      "a)  ['THE', 'QUICK', 'BROWN', 'FOX', 'JUMPS', 'OVER', 'THE', 'LAZY', 'DOG']\n",
      "b)  ['the', 'quick', 'brown', 'fox', 'jumps', 'over', 'the', 'lazy', 'dog']\n",
      "c)  [3, 5, 5, 3, 5, 4, 3, 4, 3]\n",
      "d)  [['THE', 'the', 3], ['QUICK', 'quick', 5], ['BROWN', 'brown', 5], ['FOX', 'fox', 3], ['JUMPS', 'jumps', 5], ['OVER', 'over', 4], ['THE', 'the', 3], ['LAZY', 'lazy', 4], ['DOG', 'dog', 3]]\n",
      "e)  ['quick', 'brown', 'jumps', 'over', 'lazy']\n"
     ]
    }
   ],
   "source": [
    "print(\"a) \", uppercase_words)\n",
    "print(\"b) \", lowercase_words)\n",
    "print(\"c) \", word_lengths)\n",
    "print(\"d) \", word_info)\n",
    "print(\"e) \", long_words)"
   ]
  },
  {
   "cell_type": "code",
   "execution_count": null,
   "id": "6e3b4ecd",
   "metadata": {},
   "outputs": [],
   "source": []
  }
 ],
 "metadata": {
  "kernelspec": {
   "display_name": "Python 3 (ipykernel)",
   "language": "python",
   "name": "python3"
  },
  "language_info": {
   "codemirror_mode": {
    "name": "ipython",
    "version": 3
   },
   "file_extension": ".py",
   "mimetype": "text/x-python",
   "name": "python",
   "nbconvert_exporter": "python",
   "pygments_lexer": "ipython3",
   "version": "3.11.5"
  }
 },
 "nbformat": 4,
 "nbformat_minor": 5
}
